{
 "cells": [
  {
   "cell_type": "markdown",
   "metadata": {},
   "source": [
    "<center>\n",
    "    <img src=\"https://cf-courses-data.s3.us.cloud-object-storage.appdomain.cloud/IBMDeveloperSkillsNetwork-DS0105EN-SkillsNetwork/labs/Module2/images/SN_web_lightmode.png\" width=\"300\" alt=\"cognitiveclass.ai logo\">\n",
    "</center>\n"
   ]
  },
  {
   "cell_type": "markdown",
   "metadata": {},
   "source": [
    "#### Add your code below following the instructions given in the course\n"
   ]
  },
  {
   "cell_type": "markdown",
   "metadata": {
    "tags": []
   },
   "source": [
    "# Data Science Tools and Ecosystem\n"
   ]
  },
  {
   "cell_type": "markdown",
   "metadata": {},
   "source": [
    "In this notebook, Data Science Tools and Ecosystem are summarized.\n",
    "\n",
    "This notebook presents a comprehensive overview and summary of the tools and ecosystem within the field of Data Science, providing insights into the essential components that drive data-driven innovation and problem-solving methodologies."
   ]
  },
  {
   "cell_type": "markdown",
   "metadata": {},
   "source": [
    "Some of the popular languages that Data Scientists use are:\n",
    "\n",
    "\n",
    "1. **Python:** Renowned for its versatility, rich libraries (e.g., Pandas, NumPy, SciPy), and ease of use in data manipulation, analysis, visualization, and machine learning.\n",
    "2. **R:** Well-suited for statistical computing, data visualization, and data analysis, with a vast array of statistical packages and libraries.\n",
    "3. **SQL:** Essential for managing and querying databases, retrieving and manipulating data efficiently, often used in conjunction with other programming languages for data preprocessing and analysis.\n",
    "4. **Julia:** Known for its high-performance computing capabilities, particularly useful for complex numerical and scientific computations.\n",
    "5. **Scala:** Frequently employed in big data processing frameworks like Apache Spark due to its compatibility with Java and functional programming paradigm.\n"
   ]
  },
  {
   "cell_type": "markdown",
   "metadata": {
    "tags": []
   },
   "source": [
    "Some of the commonly used libraries used by Data Scientists include:\n",
    "\n",
    "\n",
    "**Python:**\n",
    "1. **Pandas:** Provides high-performance, easy-to-use data structures and data analysis tools.\n",
    "2. **NumPy:** Essential for numerical computing, offering support for arrays, matrices, and mathematical functions.\n",
    "3. **Matplotlib:** A powerful plotting library for creating visualizations.\n",
    "4. **Scikit-learn:** Offers tools for machine learning and statistical modeling.\n",
    "5. **TensorFlow:** Widely used for building and training neural networks and deep learning models.\n",
    "6. **Keras:** A high-level neural networks API often used with TensorFlow.\n",
    "7. **Seaborn:** Provides an interface for creating statistical graphics.\n",
    "\n",
    "**R:**\n",
    "1. **dplyr:** A grammar of data manipulation, allowing for easy data manipulation.\n",
    "2. **ggplot2:** A system for declaratively creating graphics, emphasizing high-level specifications.\n",
    "3. **caret:** A comprehensive package for training and evaluating predictive models.\n",
    "\n",
    "**SQL:**\n",
    "1. **SQLite:** A C library that provides a lightweight, disk-based database.\n",
    "2. **PostgreSQL:** An open-source relational database system known for its robustness and extensibility.\n",
    "\n",
    "**Julia:**\n",
    "1. **DataFrames.jl:** Provides tools for working with tabular data.\n",
    "2. **Plots.jl:** A powerful and flexible plotting package.\n",
    "\n",
    "**Scala:**\n",
    "1. **Apache Spark (Spark SQL):** Allows SQL queries to be run on Spark data structures.\n"
   ]
  },
  {
   "cell_type": "markdown",
   "metadata": {},
   "source": [
    "| **Data Science Tools**  |\n",
    "|-------------------------|\n",
    "| Jupyter Notebook        |\n",
    "| RStudio                 |\n",
    "| Apache Zeppelin         |\n"
   ]
  },
  {
   "cell_type": "markdown",
   "metadata": {},
   "source": [
    "### Below are a few examples of evaluating arithmetic expressions in Python\n",
    "\n",
    "result_addition = 10 + 20\n",
    "print(\"Addition result:\", result_addition)\n",
    "\n",
    "\n",
    "result_subtraction = 50 - 30\n",
    "print(\"Subtraction result:\", result_subtraction)\n",
    "\n",
    "\n",
    "result_exponentiation = 2 ** 4\n",
    "print(\"Exponentiation result:\", result_exponentiation)\n"
   ]
  },
  {
   "cell_type": "code",
   "execution_count": 1,
   "metadata": {},
   "outputs": [
    {
     "name": "stdout",
     "output_type": "stream",
     "text": [
      "17\n"
     ]
    }
   ],
   "source": [
    "# This a simple arithmetic expression to mutiply then add integers\n",
    "print((3*4)+5)"
   ]
  },
  {
   "cell_type": "code",
   "execution_count": 2,
   "metadata": {},
   "outputs": [
    {
     "name": "stdout",
     "output_type": "stream",
     "text": [
      "200 minutes is equal to 3.3333333333333335 hours\n"
     ]
    }
   ],
   "source": [
    "# This will convert 200 minutes to hours by diving by 60\n",
    "minutes = 200\n",
    "hours_result = minutes / 60\n",
    "print(f\"{minutes} minutes is equal to {hours_result} hours\")"
   ]
  },
  {
   "cell_type": "markdown",
   "metadata": {},
   "source": [
    "## Author\n",
    "Mr Rey\n"
   ]
  },
  {
   "cell_type": "code",
   "execution_count": null,
   "metadata": {},
   "outputs": [],
   "source": []
  }
 ],
 "metadata": {
  "kernelspec": {
   "display_name": "Python 3 (ipykernel)",
   "language": "python",
   "name": "python3"
  },
  "language_info": {
   "codemirror_mode": {
    "name": "ipython",
    "version": 3
   },
   "file_extension": ".py",
   "mimetype": "text/x-python",
   "name": "python",
   "nbconvert_exporter": "python",
   "pygments_lexer": "ipython3",
   "version": "3.10.12"
  }
 },
 "nbformat": 4,
 "nbformat_minor": 4
}
